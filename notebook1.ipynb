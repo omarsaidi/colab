{
  "nbformat": 4,
  "nbformat_minor": 0,
  "metadata": {
    "colab": {
      "name": "Untitled1.ipynb",
      "provenance": [],
      "authorship_tag": "ABX9TyNv1A53+0dCvWgIkdQkDZO7",
      "include_colab_link": true
    },
    "kernelspec": {
      "name": "python3",
      "display_name": "Python 3"
    },
    "language_info": {
      "name": "python"
    }
  },
  "cells": [
    {
      "cell_type": "markdown",
      "metadata": {
        "id": "view-in-github",
        "colab_type": "text"
      },
      "source": [
        "<a href=\"https://colab.research.google.com/github/omarsaidi/colab/blob/main/notebook1.ipynb\" target=\"_parent\"><img src=\"https://colab.research.google.com/assets/colab-badge.svg\" alt=\"Open In Colab\"/></a>"
      ]
    },
    {
      "cell_type": "code",
      "metadata": {
        "id": "MLEl_kAZNhoI",
        "outputId": "4d247c38-4689-4d7d-affe-3d345492e7a4",
        "colab": {
          "base_uri": "https://localhost:8080/"
        }
      },
      "source": [
        "seconds_in_a_day = 60 * 60 * 24\n",
        "print(seconds_in_a_day)\n",
        "seconds_in_a_week = 7 * secondes_in_a_day\n",
        "print(seconds_in_a_week)"
      ],
      "execution_count": 5,
      "outputs": [
        {
          "output_type": "stream",
          "text": [
            "86400\n",
            "604800\n"
          ],
          "name": "stdout"
        }
      ]
    }
  ]
}